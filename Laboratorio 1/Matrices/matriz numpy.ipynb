{
 "cells": [
  {
   "cell_type": "code",
   "execution_count": 17,
   "metadata": {},
   "outputs": [],
   "source": [
    "from time import time\n",
    "import numpy as np\n",
    "\n",
    "\n",
    "def matrix(n):\n",
    "    tiempo_inicial = time()    \n",
    "    A = np.mat(np.full((n, n), 1, dtype=int))\n",
    "    B = np.mat(np.full((n, n), 2, dtype=int))\n",
    "    tiempo_final = time()\n",
    "    print( (tiempo_final - tiempo_inicial))\n",
    "    print( A*B)"
   ]
  },
  {
   "cell_type": "code",
   "execution_count": 19,
   "metadata": {},
   "outputs": [
    {
     "name": "stdout",
     "output_type": "stream",
     "text": [
      "0.0\n",
      "[[8 8 8 8]\n",
      " [8 8 8 8]\n",
      " [8 8 8 8]\n",
      " [8 8 8 8]]\n"
     ]
    }
   ],
   "source": [
    "matrix(4)"
   ]
  },
  {
   "cell_type": "code",
   "execution_count": null,
   "metadata": {},
   "outputs": [],
   "source": []
  }
 ],
 "metadata": {
  "kernelspec": {
   "display_name": "Python 3",
   "language": "python",
   "name": "python3"
  },
  "language_info": {
   "codemirror_mode": {
    "name": "ipython",
    "version": 3
   },
   "file_extension": ".py",
   "mimetype": "text/x-python",
   "name": "python",
   "nbconvert_exporter": "python",
   "pygments_lexer": "ipython3",
   "version": "3.6.4"
  }
 },
 "nbformat": 4,
 "nbformat_minor": 2
}
